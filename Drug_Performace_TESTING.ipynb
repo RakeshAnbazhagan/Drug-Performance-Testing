{
  "nbformat": 4,
  "nbformat_minor": 0,
  "metadata": {
    "colab": {
      "provenance": []
    },
    "kernelspec": {
      "name": "python3",
      "display_name": "Python 3"
    },
    "language_info": {
      "name": "python"
    }
  },
  "cells": [
    {
      "cell_type": "code",
      "execution_count": 163,
      "metadata": {
        "id": "thAYSdc6XcEA"
      },
      "outputs": [],
      "source": [
        "#importing data using pandas\n",
        "import pandas as pd\n",
        "df=pd.read_csv('/content/Drug_clean.csv')"
      ]
    },
    {
      "cell_type": "code",
      "source": [
        "df.head()"
      ],
      "metadata": {
        "colab": {
          "base_uri": "https://localhost:8080/",
          "height": 443
        },
        "id": "fKwD-uCLZV4F",
        "outputId": "6acad9fb-4e1e-4aa3-9757-f3f9f8b419b9"
      },
      "execution_count": 164,
      "outputs": [
        {
          "output_type": "execute_result",
          "data": {
            "text/plain": [
              "                   Condition                         Drug  EaseOfUse  \\\n",
              "0  Acute Bacterial Sinusitis                  Amoxicillin   3.852353   \n",
              "1  Acute Bacterial Sinusitis  Amoxicillin-Pot Clavulanate   3.470000   \n",
              "2  Acute Bacterial Sinusitis  Amoxicillin-Pot Clavulanate   3.121429   \n",
              "3  Acute Bacterial Sinusitis                   Ampicillin   2.000000   \n",
              "4  Acute Bacterial Sinusitis                   Ampicillin   3.250000   \n",
              "\n",
              "   Effective            Form Indication       Price     Reviews  Satisfaction  \\\n",
              "0   3.655882         Capsule   On Label   12.590000   86.294118      3.197647   \n",
              "1   3.290000  Liquid (Drink)  Off Label  287.370000   43.000000      2.590000   \n",
              "2   2.962857          Tablet   On Label   70.608571  267.285714      2.248571   \n",
              "3   3.000000         Capsule   On Label   12.590000    1.000000      1.000000   \n",
              "4   3.000000          Tablet   On Label  125.240000   15.000000      3.000000   \n",
              "\n",
              "  Type  \n",
              "0   RX  \n",
              "1   RX  \n",
              "2   RX  \n",
              "3   RX  \n",
              "4   RX  "
            ],
            "text/html": [
              "\n",
              "  <div id=\"df-3aae48c8-5af5-4144-9ca4-53f0e07dd998\">\n",
              "    <div class=\"colab-df-container\">\n",
              "      <div>\n",
              "<style scoped>\n",
              "    .dataframe tbody tr th:only-of-type {\n",
              "        vertical-align: middle;\n",
              "    }\n",
              "\n",
              "    .dataframe tbody tr th {\n",
              "        vertical-align: top;\n",
              "    }\n",
              "\n",
              "    .dataframe thead th {\n",
              "        text-align: right;\n",
              "    }\n",
              "</style>\n",
              "<table border=\"1\" class=\"dataframe\">\n",
              "  <thead>\n",
              "    <tr style=\"text-align: right;\">\n",
              "      <th></th>\n",
              "      <th>Condition</th>\n",
              "      <th>Drug</th>\n",
              "      <th>EaseOfUse</th>\n",
              "      <th>Effective</th>\n",
              "      <th>Form</th>\n",
              "      <th>Indication</th>\n",
              "      <th>Price</th>\n",
              "      <th>Reviews</th>\n",
              "      <th>Satisfaction</th>\n",
              "      <th>Type</th>\n",
              "    </tr>\n",
              "  </thead>\n",
              "  <tbody>\n",
              "    <tr>\n",
              "      <th>0</th>\n",
              "      <td>Acute Bacterial Sinusitis</td>\n",
              "      <td>Amoxicillin</td>\n",
              "      <td>3.852353</td>\n",
              "      <td>3.655882</td>\n",
              "      <td>Capsule</td>\n",
              "      <td>On Label</td>\n",
              "      <td>12.590000</td>\n",
              "      <td>86.294118</td>\n",
              "      <td>3.197647</td>\n",
              "      <td>RX</td>\n",
              "    </tr>\n",
              "    <tr>\n",
              "      <th>1</th>\n",
              "      <td>Acute Bacterial Sinusitis</td>\n",
              "      <td>Amoxicillin-Pot Clavulanate</td>\n",
              "      <td>3.470000</td>\n",
              "      <td>3.290000</td>\n",
              "      <td>Liquid (Drink)</td>\n",
              "      <td>Off Label</td>\n",
              "      <td>287.370000</td>\n",
              "      <td>43.000000</td>\n",
              "      <td>2.590000</td>\n",
              "      <td>RX</td>\n",
              "    </tr>\n",
              "    <tr>\n",
              "      <th>2</th>\n",
              "      <td>Acute Bacterial Sinusitis</td>\n",
              "      <td>Amoxicillin-Pot Clavulanate</td>\n",
              "      <td>3.121429</td>\n",
              "      <td>2.962857</td>\n",
              "      <td>Tablet</td>\n",
              "      <td>On Label</td>\n",
              "      <td>70.608571</td>\n",
              "      <td>267.285714</td>\n",
              "      <td>2.248571</td>\n",
              "      <td>RX</td>\n",
              "    </tr>\n",
              "    <tr>\n",
              "      <th>3</th>\n",
              "      <td>Acute Bacterial Sinusitis</td>\n",
              "      <td>Ampicillin</td>\n",
              "      <td>2.000000</td>\n",
              "      <td>3.000000</td>\n",
              "      <td>Capsule</td>\n",
              "      <td>On Label</td>\n",
              "      <td>12.590000</td>\n",
              "      <td>1.000000</td>\n",
              "      <td>1.000000</td>\n",
              "      <td>RX</td>\n",
              "    </tr>\n",
              "    <tr>\n",
              "      <th>4</th>\n",
              "      <td>Acute Bacterial Sinusitis</td>\n",
              "      <td>Ampicillin</td>\n",
              "      <td>3.250000</td>\n",
              "      <td>3.000000</td>\n",
              "      <td>Tablet</td>\n",
              "      <td>On Label</td>\n",
              "      <td>125.240000</td>\n",
              "      <td>15.000000</td>\n",
              "      <td>3.000000</td>\n",
              "      <td>RX</td>\n",
              "    </tr>\n",
              "  </tbody>\n",
              "</table>\n",
              "</div>\n",
              "      <button class=\"colab-df-convert\" onclick=\"convertToInteractive('df-3aae48c8-5af5-4144-9ca4-53f0e07dd998')\"\n",
              "              title=\"Convert this dataframe to an interactive table.\"\n",
              "              style=\"display:none;\">\n",
              "        \n",
              "  <svg xmlns=\"http://www.w3.org/2000/svg\" height=\"24px\"viewBox=\"0 0 24 24\"\n",
              "       width=\"24px\">\n",
              "    <path d=\"M0 0h24v24H0V0z\" fill=\"none\"/>\n",
              "    <path d=\"M18.56 5.44l.94 2.06.94-2.06 2.06-.94-2.06-.94-.94-2.06-.94 2.06-2.06.94zm-11 1L8.5 8.5l.94-2.06 2.06-.94-2.06-.94L8.5 2.5l-.94 2.06-2.06.94zm10 10l.94 2.06.94-2.06 2.06-.94-2.06-.94-.94-2.06-.94 2.06-2.06.94z\"/><path d=\"M17.41 7.96l-1.37-1.37c-.4-.4-.92-.59-1.43-.59-.52 0-1.04.2-1.43.59L10.3 9.45l-7.72 7.72c-.78.78-.78 2.05 0 2.83L4 21.41c.39.39.9.59 1.41.59.51 0 1.02-.2 1.41-.59l7.78-7.78 2.81-2.81c.8-.78.8-2.07 0-2.86zM5.41 20L4 18.59l7.72-7.72 1.47 1.35L5.41 20z\"/>\n",
              "  </svg>\n",
              "      </button>\n",
              "      \n",
              "  <style>\n",
              "    .colab-df-container {\n",
              "      display:flex;\n",
              "      flex-wrap:wrap;\n",
              "      gap: 12px;\n",
              "    }\n",
              "\n",
              "    .colab-df-convert {\n",
              "      background-color: #E8F0FE;\n",
              "      border: none;\n",
              "      border-radius: 50%;\n",
              "      cursor: pointer;\n",
              "      display: none;\n",
              "      fill: #1967D2;\n",
              "      height: 32px;\n",
              "      padding: 0 0 0 0;\n",
              "      width: 32px;\n",
              "    }\n",
              "\n",
              "    .colab-df-convert:hover {\n",
              "      background-color: #E2EBFA;\n",
              "      box-shadow: 0px 1px 2px rgba(60, 64, 67, 0.3), 0px 1px 3px 1px rgba(60, 64, 67, 0.15);\n",
              "      fill: #174EA6;\n",
              "    }\n",
              "\n",
              "    [theme=dark] .colab-df-convert {\n",
              "      background-color: #3B4455;\n",
              "      fill: #D2E3FC;\n",
              "    }\n",
              "\n",
              "    [theme=dark] .colab-df-convert:hover {\n",
              "      background-color: #434B5C;\n",
              "      box-shadow: 0px 1px 3px 1px rgba(0, 0, 0, 0.15);\n",
              "      filter: drop-shadow(0px 1px 2px rgba(0, 0, 0, 0.3));\n",
              "      fill: #FFFFFF;\n",
              "    }\n",
              "  </style>\n",
              "\n",
              "      <script>\n",
              "        const buttonEl =\n",
              "          document.querySelector('#df-3aae48c8-5af5-4144-9ca4-53f0e07dd998 button.colab-df-convert');\n",
              "        buttonEl.style.display =\n",
              "          google.colab.kernel.accessAllowed ? 'block' : 'none';\n",
              "\n",
              "        async function convertToInteractive(key) {\n",
              "          const element = document.querySelector('#df-3aae48c8-5af5-4144-9ca4-53f0e07dd998');\n",
              "          const dataTable =\n",
              "            await google.colab.kernel.invokeFunction('convertToInteractive',\n",
              "                                                     [key], {});\n",
              "          if (!dataTable) return;\n",
              "\n",
              "          const docLinkHtml = 'Like what you see? Visit the ' +\n",
              "            '<a target=\"_blank\" href=https://colab.research.google.com/notebooks/data_table.ipynb>data table notebook</a>'\n",
              "            + ' to learn more about interactive tables.';\n",
              "          element.innerHTML = '';\n",
              "          dataTable['output_type'] = 'display_data';\n",
              "          await google.colab.output.renderOutput(dataTable, element);\n",
              "          const docLink = document.createElement('div');\n",
              "          docLink.innerHTML = docLinkHtml;\n",
              "          element.appendChild(docLink);\n",
              "        }\n",
              "      </script>\n",
              "    </div>\n",
              "  </div>\n",
              "  "
            ]
          },
          "metadata": {},
          "execution_count": 164
        }
      ]
    },
    {
      "cell_type": "code",
      "source": [
        "df.shape"
      ],
      "metadata": {
        "colab": {
          "base_uri": "https://localhost:8080/"
        },
        "id": "rplNsPXe8G7f",
        "outputId": "e1d354d1-4b6c-4a3e-853c-e064c6d2b7a2"
      },
      "execution_count": 165,
      "outputs": [
        {
          "output_type": "execute_result",
          "data": {
            "text/plain": [
              "(685, 10)"
            ]
          },
          "metadata": {},
          "execution_count": 165
        }
      ]
    },
    {
      "cell_type": "code",
      "source": [
        "#there are no null values\n",
        "df.isnull().sum()"
      ],
      "metadata": {
        "colab": {
          "base_uri": "https://localhost:8080/"
        },
        "id": "xTjwzlbdHqoI",
        "outputId": "e172defa-2881-4187-c893-b25f7c2899e9"
      },
      "execution_count": 166,
      "outputs": [
        {
          "output_type": "execute_result",
          "data": {
            "text/plain": [
              "Condition       0\n",
              "Drug            0\n",
              "EaseOfUse       0\n",
              "Effective       0\n",
              "Form            0\n",
              "Indication      0\n",
              "Price           0\n",
              "Reviews         0\n",
              "Satisfaction    0\n",
              "Type            0\n",
              "dtype: int64"
            ]
          },
          "metadata": {},
          "execution_count": 166
        }
      ]
    },
    {
      "cell_type": "code",
      "source": [
        "#data types\n",
        "df.dtypes"
      ],
      "metadata": {
        "colab": {
          "base_uri": "https://localhost:8080/"
        },
        "id": "fXbYeqMWHx5c",
        "outputId": "ffd06b62-40c2-4217-ea3b-5561c4cfe6c4"
      },
      "execution_count": 167,
      "outputs": [
        {
          "output_type": "execute_result",
          "data": {
            "text/plain": [
              "Condition        object\n",
              "Drug             object\n",
              "EaseOfUse       float64\n",
              "Effective       float64\n",
              "Form             object\n",
              "Indication       object\n",
              "Price           float64\n",
              "Reviews         float64\n",
              "Satisfaction    float64\n",
              "Type             object\n",
              "dtype: object"
            ]
          },
          "metadata": {},
          "execution_count": 167
        }
      ]
    },
    {
      "cell_type": "code",
      "source": [
        "#checking for outliers\n",
        "df.describe()"
      ],
      "metadata": {
        "colab": {
          "base_uri": "https://localhost:8080/",
          "height": 300
        },
        "id": "LOhoOqMsZWzt",
        "outputId": "5d7b5535-6c84-4eac-c6e7-3076459005f0"
      },
      "execution_count": 168,
      "outputs": [
        {
          "output_type": "execute_result",
          "data": {
            "text/plain": [
              "        EaseOfUse   Effective         Price      Reviews  Satisfaction\n",
              "count  685.000000  685.000000    685.000000   685.000000    685.000000\n",
              "mean     3.920038    3.523530    174.211183    82.644410      3.195699\n",
              "std      0.894212    0.954126    667.743466   273.281398      1.030442\n",
              "min      1.000000    1.000000      4.000000     1.000000      1.000000\n",
              "25%      3.556667    3.000000     15.490000     3.000000      2.575000\n",
              "50%      4.050000    3.600000     49.990000    10.350877      3.200000\n",
              "75%      4.500000    4.110000    145.990000    57.000000      3.901250\n",
              "max      5.000000    5.000000  10362.190000  4647.000000      5.000000"
            ],
            "text/html": [
              "\n",
              "  <div id=\"df-e58ebd75-2f31-43f1-90e7-de30310ec27d\">\n",
              "    <div class=\"colab-df-container\">\n",
              "      <div>\n",
              "<style scoped>\n",
              "    .dataframe tbody tr th:only-of-type {\n",
              "        vertical-align: middle;\n",
              "    }\n",
              "\n",
              "    .dataframe tbody tr th {\n",
              "        vertical-align: top;\n",
              "    }\n",
              "\n",
              "    .dataframe thead th {\n",
              "        text-align: right;\n",
              "    }\n",
              "</style>\n",
              "<table border=\"1\" class=\"dataframe\">\n",
              "  <thead>\n",
              "    <tr style=\"text-align: right;\">\n",
              "      <th></th>\n",
              "      <th>EaseOfUse</th>\n",
              "      <th>Effective</th>\n",
              "      <th>Price</th>\n",
              "      <th>Reviews</th>\n",
              "      <th>Satisfaction</th>\n",
              "    </tr>\n",
              "  </thead>\n",
              "  <tbody>\n",
              "    <tr>\n",
              "      <th>count</th>\n",
              "      <td>685.000000</td>\n",
              "      <td>685.000000</td>\n",
              "      <td>685.000000</td>\n",
              "      <td>685.000000</td>\n",
              "      <td>685.000000</td>\n",
              "    </tr>\n",
              "    <tr>\n",
              "      <th>mean</th>\n",
              "      <td>3.920038</td>\n",
              "      <td>3.523530</td>\n",
              "      <td>174.211183</td>\n",
              "      <td>82.644410</td>\n",
              "      <td>3.195699</td>\n",
              "    </tr>\n",
              "    <tr>\n",
              "      <th>std</th>\n",
              "      <td>0.894212</td>\n",
              "      <td>0.954126</td>\n",
              "      <td>667.743466</td>\n",
              "      <td>273.281398</td>\n",
              "      <td>1.030442</td>\n",
              "    </tr>\n",
              "    <tr>\n",
              "      <th>min</th>\n",
              "      <td>1.000000</td>\n",
              "      <td>1.000000</td>\n",
              "      <td>4.000000</td>\n",
              "      <td>1.000000</td>\n",
              "      <td>1.000000</td>\n",
              "    </tr>\n",
              "    <tr>\n",
              "      <th>25%</th>\n",
              "      <td>3.556667</td>\n",
              "      <td>3.000000</td>\n",
              "      <td>15.490000</td>\n",
              "      <td>3.000000</td>\n",
              "      <td>2.575000</td>\n",
              "    </tr>\n",
              "    <tr>\n",
              "      <th>50%</th>\n",
              "      <td>4.050000</td>\n",
              "      <td>3.600000</td>\n",
              "      <td>49.990000</td>\n",
              "      <td>10.350877</td>\n",
              "      <td>3.200000</td>\n",
              "    </tr>\n",
              "    <tr>\n",
              "      <th>75%</th>\n",
              "      <td>4.500000</td>\n",
              "      <td>4.110000</td>\n",
              "      <td>145.990000</td>\n",
              "      <td>57.000000</td>\n",
              "      <td>3.901250</td>\n",
              "    </tr>\n",
              "    <tr>\n",
              "      <th>max</th>\n",
              "      <td>5.000000</td>\n",
              "      <td>5.000000</td>\n",
              "      <td>10362.190000</td>\n",
              "      <td>4647.000000</td>\n",
              "      <td>5.000000</td>\n",
              "    </tr>\n",
              "  </tbody>\n",
              "</table>\n",
              "</div>\n",
              "      <button class=\"colab-df-convert\" onclick=\"convertToInteractive('df-e58ebd75-2f31-43f1-90e7-de30310ec27d')\"\n",
              "              title=\"Convert this dataframe to an interactive table.\"\n",
              "              style=\"display:none;\">\n",
              "        \n",
              "  <svg xmlns=\"http://www.w3.org/2000/svg\" height=\"24px\"viewBox=\"0 0 24 24\"\n",
              "       width=\"24px\">\n",
              "    <path d=\"M0 0h24v24H0V0z\" fill=\"none\"/>\n",
              "    <path d=\"M18.56 5.44l.94 2.06.94-2.06 2.06-.94-2.06-.94-.94-2.06-.94 2.06-2.06.94zm-11 1L8.5 8.5l.94-2.06 2.06-.94-2.06-.94L8.5 2.5l-.94 2.06-2.06.94zm10 10l.94 2.06.94-2.06 2.06-.94-2.06-.94-.94-2.06-.94 2.06-2.06.94z\"/><path d=\"M17.41 7.96l-1.37-1.37c-.4-.4-.92-.59-1.43-.59-.52 0-1.04.2-1.43.59L10.3 9.45l-7.72 7.72c-.78.78-.78 2.05 0 2.83L4 21.41c.39.39.9.59 1.41.59.51 0 1.02-.2 1.41-.59l7.78-7.78 2.81-2.81c.8-.78.8-2.07 0-2.86zM5.41 20L4 18.59l7.72-7.72 1.47 1.35L5.41 20z\"/>\n",
              "  </svg>\n",
              "      </button>\n",
              "      \n",
              "  <style>\n",
              "    .colab-df-container {\n",
              "      display:flex;\n",
              "      flex-wrap:wrap;\n",
              "      gap: 12px;\n",
              "    }\n",
              "\n",
              "    .colab-df-convert {\n",
              "      background-color: #E8F0FE;\n",
              "      border: none;\n",
              "      border-radius: 50%;\n",
              "      cursor: pointer;\n",
              "      display: none;\n",
              "      fill: #1967D2;\n",
              "      height: 32px;\n",
              "      padding: 0 0 0 0;\n",
              "      width: 32px;\n",
              "    }\n",
              "\n",
              "    .colab-df-convert:hover {\n",
              "      background-color: #E2EBFA;\n",
              "      box-shadow: 0px 1px 2px rgba(60, 64, 67, 0.3), 0px 1px 3px 1px rgba(60, 64, 67, 0.15);\n",
              "      fill: #174EA6;\n",
              "    }\n",
              "\n",
              "    [theme=dark] .colab-df-convert {\n",
              "      background-color: #3B4455;\n",
              "      fill: #D2E3FC;\n",
              "    }\n",
              "\n",
              "    [theme=dark] .colab-df-convert:hover {\n",
              "      background-color: #434B5C;\n",
              "      box-shadow: 0px 1px 3px 1px rgba(0, 0, 0, 0.15);\n",
              "      filter: drop-shadow(0px 1px 2px rgba(0, 0, 0, 0.3));\n",
              "      fill: #FFFFFF;\n",
              "    }\n",
              "  </style>\n",
              "\n",
              "      <script>\n",
              "        const buttonEl =\n",
              "          document.querySelector('#df-e58ebd75-2f31-43f1-90e7-de30310ec27d button.colab-df-convert');\n",
              "        buttonEl.style.display =\n",
              "          google.colab.kernel.accessAllowed ? 'block' : 'none';\n",
              "\n",
              "        async function convertToInteractive(key) {\n",
              "          const element = document.querySelector('#df-e58ebd75-2f31-43f1-90e7-de30310ec27d');\n",
              "          const dataTable =\n",
              "            await google.colab.kernel.invokeFunction('convertToInteractive',\n",
              "                                                     [key], {});\n",
              "          if (!dataTable) return;\n",
              "\n",
              "          const docLinkHtml = 'Like what you see? Visit the ' +\n",
              "            '<a target=\"_blank\" href=https://colab.research.google.com/notebooks/data_table.ipynb>data table notebook</a>'\n",
              "            + ' to learn more about interactive tables.';\n",
              "          element.innerHTML = '';\n",
              "          dataTable['output_type'] = 'display_data';\n",
              "          await google.colab.output.renderOutput(dataTable, element);\n",
              "          const docLink = document.createElement('div');\n",
              "          docLink.innerHTML = docLinkHtml;\n",
              "          element.appendChild(docLink);\n",
              "        }\n",
              "      </script>\n",
              "    </div>\n",
              "  </div>\n",
              "  "
            ]
          },
          "metadata": {},
          "execution_count": 168
        }
      ]
    },
    {
      "cell_type": "code",
      "source": [
        "df.corr()\n",
        "#On seeing the given data Easeofuse and Satisfaction had a Good correlation and Effectiveness & Satisfaction had high correlation"
      ],
      "metadata": {
        "colab": {
          "base_uri": "https://localhost:8080/",
          "height": 206
        },
        "id": "57Is0TWiZnbC",
        "outputId": "ea4b99b0-9509-43b8-9396-5e84b242c539"
      },
      "execution_count": 169,
      "outputs": [
        {
          "output_type": "execute_result",
          "data": {
            "text/plain": [
              "              EaseOfUse  Effective     Price   Reviews  Satisfaction\n",
              "EaseOfUse      1.000000   0.659237 -0.107480  0.011962      0.650156\n",
              "Effective      0.659237   1.000000 -0.017532 -0.035802      0.864863\n",
              "Price         -0.107480  -0.017532  1.000000 -0.024927     -0.024800\n",
              "Reviews        0.011962  -0.035802 -0.024927  1.000000     -0.084216\n",
              "Satisfaction   0.650156   0.864863 -0.024800 -0.084216      1.000000"
            ],
            "text/html": [
              "\n",
              "  <div id=\"df-f64912ae-2ac5-4b4c-a814-f383fcbf415d\">\n",
              "    <div class=\"colab-df-container\">\n",
              "      <div>\n",
              "<style scoped>\n",
              "    .dataframe tbody tr th:only-of-type {\n",
              "        vertical-align: middle;\n",
              "    }\n",
              "\n",
              "    .dataframe tbody tr th {\n",
              "        vertical-align: top;\n",
              "    }\n",
              "\n",
              "    .dataframe thead th {\n",
              "        text-align: right;\n",
              "    }\n",
              "</style>\n",
              "<table border=\"1\" class=\"dataframe\">\n",
              "  <thead>\n",
              "    <tr style=\"text-align: right;\">\n",
              "      <th></th>\n",
              "      <th>EaseOfUse</th>\n",
              "      <th>Effective</th>\n",
              "      <th>Price</th>\n",
              "      <th>Reviews</th>\n",
              "      <th>Satisfaction</th>\n",
              "    </tr>\n",
              "  </thead>\n",
              "  <tbody>\n",
              "    <tr>\n",
              "      <th>EaseOfUse</th>\n",
              "      <td>1.000000</td>\n",
              "      <td>0.659237</td>\n",
              "      <td>-0.107480</td>\n",
              "      <td>0.011962</td>\n",
              "      <td>0.650156</td>\n",
              "    </tr>\n",
              "    <tr>\n",
              "      <th>Effective</th>\n",
              "      <td>0.659237</td>\n",
              "      <td>1.000000</td>\n",
              "      <td>-0.017532</td>\n",
              "      <td>-0.035802</td>\n",
              "      <td>0.864863</td>\n",
              "    </tr>\n",
              "    <tr>\n",
              "      <th>Price</th>\n",
              "      <td>-0.107480</td>\n",
              "      <td>-0.017532</td>\n",
              "      <td>1.000000</td>\n",
              "      <td>-0.024927</td>\n",
              "      <td>-0.024800</td>\n",
              "    </tr>\n",
              "    <tr>\n",
              "      <th>Reviews</th>\n",
              "      <td>0.011962</td>\n",
              "      <td>-0.035802</td>\n",
              "      <td>-0.024927</td>\n",
              "      <td>1.000000</td>\n",
              "      <td>-0.084216</td>\n",
              "    </tr>\n",
              "    <tr>\n",
              "      <th>Satisfaction</th>\n",
              "      <td>0.650156</td>\n",
              "      <td>0.864863</td>\n",
              "      <td>-0.024800</td>\n",
              "      <td>-0.084216</td>\n",
              "      <td>1.000000</td>\n",
              "    </tr>\n",
              "  </tbody>\n",
              "</table>\n",
              "</div>\n",
              "      <button class=\"colab-df-convert\" onclick=\"convertToInteractive('df-f64912ae-2ac5-4b4c-a814-f383fcbf415d')\"\n",
              "              title=\"Convert this dataframe to an interactive table.\"\n",
              "              style=\"display:none;\">\n",
              "        \n",
              "  <svg xmlns=\"http://www.w3.org/2000/svg\" height=\"24px\"viewBox=\"0 0 24 24\"\n",
              "       width=\"24px\">\n",
              "    <path d=\"M0 0h24v24H0V0z\" fill=\"none\"/>\n",
              "    <path d=\"M18.56 5.44l.94 2.06.94-2.06 2.06-.94-2.06-.94-.94-2.06-.94 2.06-2.06.94zm-11 1L8.5 8.5l.94-2.06 2.06-.94-2.06-.94L8.5 2.5l-.94 2.06-2.06.94zm10 10l.94 2.06.94-2.06 2.06-.94-2.06-.94-.94-2.06-.94 2.06-2.06.94z\"/><path d=\"M17.41 7.96l-1.37-1.37c-.4-.4-.92-.59-1.43-.59-.52 0-1.04.2-1.43.59L10.3 9.45l-7.72 7.72c-.78.78-.78 2.05 0 2.83L4 21.41c.39.39.9.59 1.41.59.51 0 1.02-.2 1.41-.59l7.78-7.78 2.81-2.81c.8-.78.8-2.07 0-2.86zM5.41 20L4 18.59l7.72-7.72 1.47 1.35L5.41 20z\"/>\n",
              "  </svg>\n",
              "      </button>\n",
              "      \n",
              "  <style>\n",
              "    .colab-df-container {\n",
              "      display:flex;\n",
              "      flex-wrap:wrap;\n",
              "      gap: 12px;\n",
              "    }\n",
              "\n",
              "    .colab-df-convert {\n",
              "      background-color: #E8F0FE;\n",
              "      border: none;\n",
              "      border-radius: 50%;\n",
              "      cursor: pointer;\n",
              "      display: none;\n",
              "      fill: #1967D2;\n",
              "      height: 32px;\n",
              "      padding: 0 0 0 0;\n",
              "      width: 32px;\n",
              "    }\n",
              "\n",
              "    .colab-df-convert:hover {\n",
              "      background-color: #E2EBFA;\n",
              "      box-shadow: 0px 1px 2px rgba(60, 64, 67, 0.3), 0px 1px 3px 1px rgba(60, 64, 67, 0.15);\n",
              "      fill: #174EA6;\n",
              "    }\n",
              "\n",
              "    [theme=dark] .colab-df-convert {\n",
              "      background-color: #3B4455;\n",
              "      fill: #D2E3FC;\n",
              "    }\n",
              "\n",
              "    [theme=dark] .colab-df-convert:hover {\n",
              "      background-color: #434B5C;\n",
              "      box-shadow: 0px 1px 3px 1px rgba(0, 0, 0, 0.15);\n",
              "      filter: drop-shadow(0px 1px 2px rgba(0, 0, 0, 0.3));\n",
              "      fill: #FFFFFF;\n",
              "    }\n",
              "  </style>\n",
              "\n",
              "      <script>\n",
              "        const buttonEl =\n",
              "          document.querySelector('#df-f64912ae-2ac5-4b4c-a814-f383fcbf415d button.colab-df-convert');\n",
              "        buttonEl.style.display =\n",
              "          google.colab.kernel.accessAllowed ? 'block' : 'none';\n",
              "\n",
              "        async function convertToInteractive(key) {\n",
              "          const element = document.querySelector('#df-f64912ae-2ac5-4b4c-a814-f383fcbf415d');\n",
              "          const dataTable =\n",
              "            await google.colab.kernel.invokeFunction('convertToInteractive',\n",
              "                                                     [key], {});\n",
              "          if (!dataTable) return;\n",
              "\n",
              "          const docLinkHtml = 'Like what you see? Visit the ' +\n",
              "            '<a target=\"_blank\" href=https://colab.research.google.com/notebooks/data_table.ipynb>data table notebook</a>'\n",
              "            + ' to learn more about interactive tables.';\n",
              "          element.innerHTML = '';\n",
              "          dataTable['output_type'] = 'display_data';\n",
              "          await google.colab.output.renderOutput(dataTable, element);\n",
              "          const docLink = document.createElement('div');\n",
              "          docLink.innerHTML = docLinkHtml;\n",
              "          element.appendChild(docLink);\n",
              "        }\n",
              "      </script>\n",
              "    </div>\n",
              "  </div>\n",
              "  "
            ]
          },
          "metadata": {},
          "execution_count": 169
        }
      ]
    },
    {
      "cell_type": "code",
      "source": [
        "#EDA\n",
        "df.Condition.value_counts().plot(kind='bar')\n",
        "#Checking frequencies of the Disease Condition in the fiven data"
      ],
      "metadata": {
        "colab": {
          "base_uri": "https://localhost:8080/",
          "height": 489
        },
        "id": "2gLEgx07eSc9",
        "outputId": "72becdf6-f8e4-4610-f45b-35c0fe2c8713"
      },
      "execution_count": 170,
      "outputs": [
        {
          "output_type": "execute_result",
          "data": {
            "text/plain": [
              "<AxesSubplot:>"
            ]
          },
          "metadata": {},
          "execution_count": 170
        },
        {
          "output_type": "display_data",
          "data": {
            "text/plain": [
              "<Figure size 432x288 with 1 Axes>"
            ],
            "image/png": "[encoded data removed]"
          },
          "metadata": {
            "needs_background": "light"
          }
        }
      ]
    },
    {
      "cell_type": "markdown",
      "source": [
        "## Treating Outliers"
      ],
      "metadata": {
        "id": "LmgUYxhXb2AL"
      }
    },
    {
      "cell_type": "code",
      "source": [
        "import seaborn as sns\n",
        "#On Checking on the Ease of Use,the data seems to be skewed \n",
        "sns.distplot(df['EaseOfUse'])"
      ],
      "metadata": {
        "colab": {
          "base_uri": "https://localhost:8080/",
          "height": 351
        },
        "id": "ZNbw2LK-fbnS",
        "outputId": "a0a59082-ee88-4ce4-8a8f-92777b55eff8"
      },
      "execution_count": 171,
      "outputs": [
        {
          "output_type": "stream",
          "name": "stderr",
          "text": [
            "/usr/local/lib/python3.8/dist-packages/seaborn/distributions.py:2619: FutureWarning: `distplot` is a deprecated function and will be removed in a future version. Please adapt your code to use either `displot` (a figure-level function with similar flexibility) or `histplot` (an axes-level function for histograms).\n",
            "  warnings.warn(msg, FutureWarning)\n"
          ]
        },
        {
          "output_type": "execute_result",
          "data": {
            "text/plain": [
              "<AxesSubplot:xlabel='EaseOfUse', ylabel='Density'>"
            ]
          },
          "metadata": {},
          "execution_count": 171
        },
        {
          "output_type": "display_data",
          "data": {
            "text/plain": [
              "<Figure size 432x288 with 1 Axes>"
            ],
            "image/png": "[encoded data removed]"
          },
          "metadata": {
            "needs_background": "light"
          }
        }
      ]
    },
    {
      "cell_type": "code",
      "source": [
        "#treating the outliers of EaseOfuse\n",
        "lower_bridge=df['EaseOfUse'].quantile(0.25)-(1.5)\n",
        "upper_bridge=df['EaseOfUse'].quantile(0.75)+(1.5)\n",
        "print(lower_bridge)\n",
        "print(upper_bridge)\n",
        "df.loc[df['EaseOfUse']<=2.05,'EaseOfUse']=2.05"
      ],
      "metadata": {
        "colab": {
          "base_uri": "https://localhost:8080/"
        },
        "id": "EBQ-h9xRgQTk",
        "outputId": "77f54b4c-94fc-45a2-900a-aa87ad5d5e96"
      },
      "execution_count": 172,
      "outputs": [
        {
          "output_type": "stream",
          "name": "stdout",
          "text": [
            "2.056666666666666\n",
            "6.0\n"
          ]
        }
      ]
    },
    {
      "cell_type": "code",
      "source": [
        "sns.distplot(df['EaseOfUse'])"
      ],
      "metadata": {
        "colab": {
          "base_uri": "https://localhost:8080/",
          "height": 351
        },
        "id": "ruxsoAmkXvMN",
        "outputId": "03c70782-863f-4dbd-ab3c-2a316d5f2380"
      },
      "execution_count": 173,
      "outputs": [
        {
          "output_type": "stream",
          "name": "stderr",
          "text": [
            "/usr/local/lib/python3.8/dist-packages/seaborn/distributions.py:2619: FutureWarning: `distplot` is a deprecated function and will be removed in a future version. Please adapt your code to use either `displot` (a figure-level function with similar flexibility) or `histplot` (an axes-level function for histograms).\n",
            "  warnings.warn(msg, FutureWarning)\n"
          ]
        },
        {
          "output_type": "execute_result",
          "data": {
            "text/plain": [
              "<AxesSubplot:xlabel='EaseOfUse', ylabel='Density'>"
            ]
          },
          "metadata": {},
          "execution_count": 173
        },
        {
          "output_type": "display_data",
          "data": {
            "text/plain": [
              "<Figure size 432x288 with 1 Axes>"
            ],
            "image/png": "[encoded data removed]"
          },
          "metadata": {
            "needs_background": "light"
          }
        }
      ]
    },
    {
      "cell_type": "code",
      "source": [
        "sns.distplot(df['Effective'])"
      ],
      "metadata": {
        "colab": {
          "base_uri": "https://localhost:8080/",
          "height": 351
        },
        "id": "oSTu6Uu3YT44",
        "outputId": "b02b26e3-16f7-4f62-8f39-6f4bd843155b"
      },
      "execution_count": 174,
      "outputs": [
        {
          "output_type": "stream",
          "name": "stderr",
          "text": [
            "/usr/local/lib/python3.8/dist-packages/seaborn/distributions.py:2619: FutureWarning: `distplot` is a deprecated function and will be removed in a future version. Please adapt your code to use either `displot` (a figure-level function with similar flexibility) or `histplot` (an axes-level function for histograms).\n",
            "  warnings.warn(msg, FutureWarning)\n"
          ]
        },
        {
          "output_type": "execute_result",
          "data": {
            "text/plain": [
              "<AxesSubplot:xlabel='Effective', ylabel='Density'>"
            ]
          },
          "metadata": {},
          "execution_count": 174
        },
        {
          "output_type": "display_data",
          "data": {
            "text/plain": [
              "<Figure size 432x288 with 1 Axes>"
            ],
            "image/png": "[encoded data removed]"
          },
          "metadata": {
            "needs_background": "light"
          }
        }
      ]
    },
    {
      "cell_type": "code",
      "source": [
        "lower_bridge=df['Effective'].quantile(0.25)-(1.6)\n",
        "upper_bridge=df['Effective'].quantile(0.75)+(1.6)\n",
        "print(lower_bridge)\n",
        "print(upper_bridge)\n",
        "df.loc[df['Effective']<=1.4,'Effective']=1.4  ##mean value of effective\n",
        "df.loc[df['Effective']>=5.71,'Effective']=5.71"
      ],
      "metadata": {
        "colab": {
          "base_uri": "https://localhost:8080/"
        },
        "id": "Jep6PS3gYa_b",
        "outputId": "8ea1c8fb-a69a-4da7-d3cf-3d8b550ca6c0"
      },
      "execution_count": 175,
      "outputs": [
        {
          "output_type": "stream",
          "name": "stdout",
          "text": [
            "1.4\n",
            "5.710000000000001\n"
          ]
        }
      ]
    },
    {
      "cell_type": "code",
      "source": [
        "sns.distplot(df['Effective'])"
      ],
      "metadata": {
        "colab": {
          "base_uri": "https://localhost:8080/",
          "height": 351
        },
        "id": "i10UQiLHZ6QM",
        "outputId": "ba05c7fe-80f3-4e27-a493-7ec1a4a642cd"
      },
      "execution_count": 176,
      "outputs": [
        {
          "output_type": "stream",
          "name": "stderr",
          "text": [
            "/usr/local/lib/python3.8/dist-packages/seaborn/distributions.py:2619: FutureWarning: `distplot` is a deprecated function and will be removed in a future version. Please adapt your code to use either `displot` (a figure-level function with similar flexibility) or `histplot` (an axes-level function for histograms).\n",
            "  warnings.warn(msg, FutureWarning)\n"
          ]
        },
        {
          "output_type": "execute_result",
          "data": {
            "text/plain": [
              "<AxesSubplot:xlabel='Effective', ylabel='Density'>"
            ]
          },
          "metadata": {},
          "execution_count": 176
        },
        {
          "output_type": "display_data",
          "data": {
            "text/plain": [
              "<Figure size 432x288 with 1 Axes>"
            ],
            "image/png": "[encoded data removed]"
          },
          "metadata": {
            "needs_background": "light"
          }
        }
      ]
    },
    {
      "cell_type": "code",
      "source": [
        "sns.distplot(df['Price'])"
      ],
      "metadata": {
        "colab": {
          "base_uri": "https://localhost:8080/",
          "height": 351
        },
        "id": "PcSMShBJbtq5",
        "outputId": "bb7cd28c-ed7f-4f72-d34e-0518d394d164"
      },
      "execution_count": 177,
      "outputs": [
        {
          "output_type": "stream",
          "name": "stderr",
          "text": [
            "/usr/local/lib/python3.8/dist-packages/seaborn/distributions.py:2619: FutureWarning: `distplot` is a deprecated function and will be removed in a future version. Please adapt your code to use either `displot` (a figure-level function with similar flexibility) or `histplot` (an axes-level function for histograms).\n",
            "  warnings.warn(msg, FutureWarning)\n"
          ]
        },
        {
          "output_type": "execute_result",
          "data": {
            "text/plain": [
              "<AxesSubplot:xlabel='Price', ylabel='Density'>"
            ]
          },
          "metadata": {},
          "execution_count": 177
        },
        {
          "output_type": "display_data",
          "data": {
            "text/plain": [
              "<Figure size 432x288 with 1 Axes>"
            ],
            "image/png": "[encoded data removed]"
          },
          "metadata": {
            "needs_background": "light"
          }
        }
      ]
    },
    {
      "cell_type": "code",
      "source": [
        "lower_bridge=df['Price'].quantile(0.25)-(195.75)\n",
        "upper_bridge=df['Price'].quantile(0.75)+(195.75)\n",
        "print(lower_bridge)\n",
        "print(upper_bridge)\n",
        "df.loc[df['Price']>=341.74,'Price']=341.74"
      ],
      "metadata": {
        "colab": {
          "base_uri": "https://localhost:8080/"
        },
        "id": "VozLFbzHbtoK",
        "outputId": "0454289c-6f5f-4b5f-c954-0b452964eafd"
      },
      "execution_count": 178,
      "outputs": [
        {
          "output_type": "stream",
          "name": "stdout",
          "text": [
            "-180.26\n",
            "341.74\n"
          ]
        }
      ]
    },
    {
      "cell_type": "code",
      "source": [
        "sns.distplot(df['Price'])"
      ],
      "metadata": {
        "colab": {
          "base_uri": "https://localhost:8080/",
          "height": 351
        },
        "id": "xIUQJr-RbtkJ",
        "outputId": "f8539ff8-f739-492b-ee8c-32c5796be00e"
      },
      "execution_count": 179,
      "outputs": [
        {
          "output_type": "stream",
          "name": "stderr",
          "text": [
            "/usr/local/lib/python3.8/dist-packages/seaborn/distributions.py:2619: FutureWarning: `distplot` is a deprecated function and will be removed in a future version. Please adapt your code to use either `displot` (a figure-level function with similar flexibility) or `histplot` (an axes-level function for histograms).\n",
            "  warnings.warn(msg, FutureWarning)\n"
          ]
        },
        {
          "output_type": "execute_result",
          "data": {
            "text/plain": [
              "<AxesSubplot:xlabel='Price', ylabel='Density'>"
            ]
          },
          "metadata": {},
          "execution_count": 179
        },
        {
          "output_type": "display_data",
          "data": {
            "text/plain": [
              "<Figure size 432x288 with 1 Axes>"
            ],
            "image/png": "[encoded data removed]"
          },
          "metadata": {
            "needs_background": "light"
          }
        }
      ]
    },
    {
      "cell_type": "code",
      "source": [
        "sns.distplot(df['Reviews'])"
      ],
      "metadata": {
        "colab": {
          "base_uri": "https://localhost:8080/",
          "height": 351
        },
        "id": "hSyuSGaKbtiM",
        "outputId": "46422cfa-a21c-44cc-9fd0-5607a43ed9be"
      },
      "execution_count": 180,
      "outputs": [
        {
          "output_type": "stream",
          "name": "stderr",
          "text": [
            "/usr/local/lib/python3.8/dist-packages/seaborn/distributions.py:2619: FutureWarning: `distplot` is a deprecated function and will be removed in a future version. Please adapt your code to use either `displot` (a figure-level function with similar flexibility) or `histplot` (an axes-level function for histograms).\n",
            "  warnings.warn(msg, FutureWarning)\n"
          ]
        },
        {
          "output_type": "execute_result",
          "data": {
            "text/plain": [
              "<AxesSubplot:xlabel='Reviews', ylabel='Density'>"
            ]
          },
          "metadata": {},
          "execution_count": 180
        },
        {
          "output_type": "display_data",
          "data": {
            "text/plain": [
              "<Figure size 432x288 with 1 Axes>"
            ],
            "image/png": "[encoded data removed]"
          },
          "metadata": {
            "needs_background": "light"
          }
        }
      ]
    },
    {
      "cell_type": "code",
      "source": [
        "lower_bridge=df['Reviews'].quantile(0.25)-(81)\n",
        "upper_bridge=df['Reviews'].quantile(0.75)+(81)\n",
        "print(lower_bridge)\n",
        "print(upper_bridge)\n",
        "df.loc[df['Reviews']>=138,'Reviews']=138"
      ],
      "metadata": {
        "colab": {
          "base_uri": "https://localhost:8080/"
        },
        "id": "8V9qp66XbtbV",
        "outputId": "4047c4d3-0ecf-4a92-e2b5-c913f2f15cde"
      },
      "execution_count": 181,
      "outputs": [
        {
          "output_type": "stream",
          "name": "stdout",
          "text": [
            "-78.0\n",
            "138.0\n"
          ]
        }
      ]
    },
    {
      "cell_type": "code",
      "source": [
        "sns.distplot(df['Reviews'])"
      ],
      "metadata": {
        "colab": {
          "base_uri": "https://localhost:8080/",
          "height": 351
        },
        "id": "bKmAGAtYbtYJ",
        "outputId": "01f6c193-86fb-4aac-ab85-5911140f7073"
      },
      "execution_count": 182,
      "outputs": [
        {
          "output_type": "stream",
          "name": "stderr",
          "text": [
            "/usr/local/lib/python3.8/dist-packages/seaborn/distributions.py:2619: FutureWarning: `distplot` is a deprecated function and will be removed in a future version. Please adapt your code to use either `displot` (a figure-level function with similar flexibility) or `histplot` (an axes-level function for histograms).\n",
            "  warnings.warn(msg, FutureWarning)\n"
          ]
        },
        {
          "output_type": "execute_result",
          "data": {
            "text/plain": [
              "<AxesSubplot:xlabel='Reviews', ylabel='Density'>"
            ]
          },
          "metadata": {},
          "execution_count": 182
        },
        {
          "output_type": "display_data",
          "data": {
            "text/plain": [
              "<Figure size 432x288 with 1 Axes>"
            ],
            "image/png": "[encoded data removed]"
          },
          "metadata": {
            "needs_background": "light"
          }
        }
      ]
    },
    {
      "cell_type": "markdown",
      "source": [
        "#Encoding"
      ],
      "metadata": {
        "id": "upU8KepXm5cK"
      }
    },
    {
      "cell_type": "code",
      "source": [
        "Condition=pd.get_dummies(df.Condition)"
      ],
      "metadata": {
        "id": "9hAvE0Bqp9WJ"
      },
      "execution_count": 183,
      "outputs": []
    },
    {
      "cell_type": "code",
      "source": [
        "from sklearn.preprocessing import LabelEncoder"
      ],
      "metadata": {
        "id": "MY22fwUpmISY"
      },
      "execution_count": 184,
      "outputs": []
    },
    {
      "cell_type": "code",
      "source": [
        "enc=LabelEncoder()\n",
        "df['Drug']=enc.fit_transform(df['Drug'])\n",
        "df['Form']=enc.fit_transform(df['Form'])\n",
        "df['Indication']=enc.fit_transform(df['Indication'])\n",
        "df['Type']=enc.fit_transform(df['Type'])"
      ],
      "metadata": {
        "id": "k-r7NgqUm1gP"
      },
      "execution_count": 185,
      "outputs": []
    },
    {
      "cell_type": "code",
      "source": [
        "new=df.drop('Condition',axis=1)"
      ],
      "metadata": {
        "id": "6LKTsvp_ndp6"
      },
      "execution_count": 186,
      "outputs": []
    },
    {
      "cell_type": "code",
      "source": [
        "final=pd.concat([Condition,new],axis='columns')"
      ],
      "metadata": {
        "id": "QRST8s7Jnehe"
      },
      "execution_count": 187,
      "outputs": []
    },
    {
      "cell_type": "code",
      "source": [
        "final.head()"
      ],
      "metadata": {
        "colab": {
          "base_uri": "https://localhost:8080/",
          "height": 351
        },
        "id": "yHxJOHOMpqB_",
        "outputId": "56fe3e39-77c8-40b1-eaa9-c697e971ec79"
      },
      "execution_count": 188,
      "outputs": [
        {
          "output_type": "execute_result",
          "data": {
            "text/plain": [
              "   Acute Bacterial Sinusitis  Atopic Dermatitis  Bacterial Conjunctivitis  \\\n",
              "0                          1                  0                         0   \n",
              "1                          1                  0                         0   \n",
              "2                          1                  0                         0   \n",
              "3                          1                  0                         0   \n",
              "4                          1                  0                         0   \n",
              "\n",
              "   Bacterial Urinary Tract Infection  Infantile Autism  Influenza  \\\n",
              "0                                  0                 0          0   \n",
              "1                                  0                 0          0   \n",
              "2                                  0                 0          0   \n",
              "3                                  0                 0          0   \n",
              "4                                  0                 0          0   \n",
              "\n",
              "   Pharyngitis due to Streptococcus Pyogenes  \\\n",
              "0                                          0   \n",
              "1                                          0   \n",
              "2                                          0   \n",
              "3                                          0   \n",
              "4                                          0   \n",
              "\n",
              "   Sleepiness Due To Obstructive Sleep Apnea  adenocarcinoma of pancreas  \\\n",
              "0                                          0                           0   \n",
              "1                                          0                           0   \n",
              "2                                          0                           0   \n",
              "3                                          0                           0   \n",
              "4                                          0                           0   \n",
              "\n",
              "   back pain  ...  vulvovaginal candidiasis  Drug  EaseOfUse  Effective  Form  \\\n",
              "0          0  ...                         0    41   3.852353   3.655882     0   \n",
              "1          0  ...                         0    42   3.470000   3.290000     2   \n",
              "2          0  ...                         0    42   3.121429   2.962857     5   \n",
              "3          0  ...                         0    43   2.050000   3.000000     0   \n",
              "4          0  ...                         0    43   3.250000   3.000000     5   \n",
              "\n",
              "   Indication       Price     Reviews  Satisfaction  Type  \n",
              "0           2   12.590000   86.294118      3.197647     2  \n",
              "1           1  287.370000   43.000000      2.590000     2  \n",
              "2           2   70.608571  138.000000      2.248571     2  \n",
              "3           2   12.590000    1.000000      1.000000     2  \n",
              "4           2  125.240000   15.000000      3.000000     2  \n",
              "\n",
              "[5 rows x 46 columns]"
            ],
            "text/html": [
              "\n",
              "  <div id=\"df-12ea0d35-2e46-48a0-b596-256737cb4021\">\n",
              "    <div class=\"colab-df-container\">\n",
              "      <div>\n",
              "<style scoped>\n",
              "    .dataframe tbody tr th:only-of-type {\n",
              "        vertical-align: middle;\n",
              "    }\n",
              "\n",
              "    .dataframe tbody tr th {\n",
              "        vertical-align: top;\n",
              "    }\n",
              "\n",
              "    .dataframe thead th {\n",
              "        text-align: right;\n",
              "    }\n",
              "</style>\n",
              "<table border=\"1\" class=\"dataframe\">\n",
              "  <thead>\n",
              "    <tr style=\"text-align: right;\">\n",
              "      <th></th>\n",
              "      <th>Acute Bacterial Sinusitis</th>\n",
              "      <th>Atopic Dermatitis</th>\n",
              "      <th>Bacterial Conjunctivitis</th>\n",
              "      <th>Bacterial Urinary Tract Infection</th>\n",
              "      <th>Infantile Autism</th>\n",
              "      <th>Influenza</th>\n",
              "      <th>Pharyngitis due to Streptococcus Pyogenes</th>\n",
              "      <th>Sleepiness Due To Obstructive Sleep Apnea</th>\n",
              "      <th>adenocarcinoma of pancreas</th>\n",
              "      <th>back pain</th>\n",
              "      <th>...</th>\n",
              "      <th>vulvovaginal candidiasis</th>\n",
              "      <th>Drug</th>\n",
              "      <th>EaseOfUse</th>\n",
              "      <th>Effective</th>\n",
              "      <th>Form</th>\n",
              "      <th>Indication</th>\n",
              "      <th>Price</th>\n",
              "      <th>Reviews</th>\n",
              "      <th>Satisfaction</th>\n",
              "      <th>Type</th>\n",
              "    </tr>\n",
              "  </thead>\n",
              "  <tbody>\n",
              "    <tr>\n",
              "      <th>0</th>\n",
              "      <td>1</td>\n",
              "      <td>0</td>\n",
              "      <td>0</td>\n",
              "      <td>0</td>\n",
              "      <td>0</td>\n",
              "      <td>0</td>\n",
              "      <td>0</td>\n",
              "      <td>0</td>\n",
              "      <td>0</td>\n",
              "      <td>0</td>\n",
              "      <td>...</td>\n",
              "      <td>0</td>\n",
              "      <td>41</td>\n",
              "      <td>3.852353</td>\n",
              "      <td>3.655882</td>\n",
              "      <td>0</td>\n",
              "      <td>2</td>\n",
              "      <td>12.590000</td>\n",
              "      <td>86.294118</td>\n",
              "      <td>3.197647</td>\n",
              "      <td>2</td>\n",
              "    </tr>\n",
              "    <tr>\n",
              "      <th>1</th>\n",
              "      <td>1</td>\n",
              "      <td>0</td>\n",
              "      <td>0</td>\n",
              "      <td>0</td>\n",
              "      <td>0</td>\n",
              "      <td>0</td>\n",
              "      <td>0</td>\n",
              "      <td>0</td>\n",
              "      <td>0</td>\n",
              "      <td>0</td>\n",
              "      <td>...</td>\n",
              "      <td>0</td>\n",
              "      <td>42</td>\n",
              "      <td>3.470000</td>\n",
              "      <td>3.290000</td>\n",
              "      <td>2</td>\n",
              "      <td>1</td>\n",
              "      <td>287.370000</td>\n",
              "      <td>43.000000</td>\n",
              "      <td>2.590000</td>\n",
              "      <td>2</td>\n",
              "    </tr>\n",
              "    <tr>\n",
              "      <th>2</th>\n",
              "      <td>1</td>\n",
              "      <td>0</td>\n",
              "      <td>0</td>\n",
              "      <td>0</td>\n",
              "      <td>0</td>\n",
              "      <td>0</td>\n",
              "      <td>0</td>\n",
              "      <td>0</td>\n",
              "      <td>0</td>\n",
              "      <td>0</td>\n",
              "      <td>...</td>\n",
              "      <td>0</td>\n",
              "      <td>42</td>\n",
              "      <td>3.121429</td>\n",
              "      <td>2.962857</td>\n",
              "      <td>5</td>\n",
              "      <td>2</td>\n",
              "      <td>70.608571</td>\n",
              "      <td>138.000000</td>\n",
              "      <td>2.248571</td>\n",
              "      <td>2</td>\n",
              "    </tr>\n",
              "    <tr>\n",
              "      <th>3</th>\n",
              "      <td>1</td>\n",
              "      <td>0</td>\n",
              "      <td>0</td>\n",
              "      <td>0</td>\n",
              "      <td>0</td>\n",
              "      <td>0</td>\n",
              "      <td>0</td>\n",
              "      <td>0</td>\n",
              "      <td>0</td>\n",
              "      <td>0</td>\n",
              "      <td>...</td>\n",
              "      <td>0</td>\n",
              "      <td>43</td>\n",
              "      <td>2.050000</td>\n",
              "      <td>3.000000</td>\n",
              "      <td>0</td>\n",
              "      <td>2</td>\n",
              "      <td>12.590000</td>\n",
              "      <td>1.000000</td>\n",
              "      <td>1.000000</td>\n",
              "      <td>2</td>\n",
              "    </tr>\n",
              "    <tr>\n",
              "      <th>4</th>\n",
              "      <td>1</td>\n",
              "      <td>0</td>\n",
              "      <td>0</td>\n",
              "      <td>0</td>\n",
              "      <td>0</td>\n",
              "      <td>0</td>\n",
              "      <td>0</td>\n",
              "      <td>0</td>\n",
              "      <td>0</td>\n",
              "      <td>0</td>\n",
              "      <td>...</td>\n",
              "      <td>0</td>\n",
              "      <td>43</td>\n",
              "      <td>3.250000</td>\n",
              "      <td>3.000000</td>\n",
              "      <td>5</td>\n",
              "      <td>2</td>\n",
              "      <td>125.240000</td>\n",
              "      <td>15.000000</td>\n",
              "      <td>3.000000</td>\n",
              "      <td>2</td>\n",
              "    </tr>\n",
              "  </tbody>\n",
              "</table>\n",
              "<p>5 rows × 46 columns</p>\n",
              "</div>\n",
              "      <button class=\"colab-df-convert\" onclick=\"convertToInteractive('df-12ea0d35-2e46-48a0-b596-256737cb4021')\"\n",
              "              title=\"Convert this dataframe to an interactive table.\"\n",
              "              style=\"display:none;\">\n",
              "        \n",
              "  <svg xmlns=\"http://www.w3.org/2000/svg\" height=\"24px\"viewBox=\"0 0 24 24\"\n",
              "       width=\"24px\">\n",
              "    <path d=\"M0 0h24v24H0V0z\" fill=\"none\"/>\n",
              "    <path d=\"M18.56 5.44l.94 2.06.94-2.06 2.06-.94-2.06-.94-.94-2.06-.94 2.06-2.06.94zm-11 1L8.5 8.5l.94-2.06 2.06-.94-2.06-.94L8.5 2.5l-.94 2.06-2.06.94zm10 10l.94 2.06.94-2.06 2.06-.94-2.06-.94-.94-2.06-.94 2.06-2.06.94z\"/><path d=\"M17.41 7.96l-1.37-1.37c-.4-.4-.92-.59-1.43-.59-.52 0-1.04.2-1.43.59L10.3 9.45l-7.72 7.72c-.78.78-.78 2.05 0 2.83L4 21.41c.39.39.9.59 1.41.59.51 0 1.02-.2 1.41-.59l7.78-7.78 2.81-2.81c.8-.78.8-2.07 0-2.86zM5.41 20L4 18.59l7.72-7.72 1.47 1.35L5.41 20z\"/>\n",
              "  </svg>\n",
              "      </button>\n",
              "      \n",
              "  <style>\n",
              "    .colab-df-container {\n",
              "      display:flex;\n",
              "      flex-wrap:wrap;\n",
              "      gap: 12px;\n",
              "    }\n",
              "\n",
              "    .colab-df-convert {\n",
              "      background-color: #E8F0FE;\n",
              "      border: none;\n",
              "      border-radius: 50%;\n",
              "      cursor: pointer;\n",
              "      display: none;\n",
              "      fill: #1967D2;\n",
              "      height: 32px;\n",
              "      padding: 0 0 0 0;\n",
              "      width: 32px;\n",
              "    }\n",
              "\n",
              "    .colab-df-convert:hover {\n",
              "      background-color: #E2EBFA;\n",
              "      box-shadow: 0px 1px 2px rgba(60, 64, 67, 0.3), 0px 1px 3px 1px rgba(60, 64, 67, 0.15);\n",
              "      fill: #174EA6;\n",
              "    }\n",
              "\n",
              "    [theme=dark] .colab-df-convert {\n",
              "      background-color: #3B4455;\n",
              "      fill: #D2E3FC;\n",
              "    }\n",
              "\n",
              "    [theme=dark] .colab-df-convert:hover {\n",
              "      background-color: #434B5C;\n",
              "      box-shadow: 0px 1px 3px 1px rgba(0, 0, 0, 0.15);\n",
              "      filter: drop-shadow(0px 1px 2px rgba(0, 0, 0, 0.3));\n",
              "      fill: #FFFFFF;\n",
              "    }\n",
              "  </style>\n",
              "\n",
              "      <script>\n",
              "        const buttonEl =\n",
              "          document.querySelector('#df-12ea0d35-2e46-48a0-b596-256737cb4021 button.colab-df-convert');\n",
              "        buttonEl.style.display =\n",
              "          google.colab.kernel.accessAllowed ? 'block' : 'none';\n",
              "\n",
              "        async function convertToInteractive(key) {\n",
              "          const element = document.querySelector('#df-12ea0d35-2e46-48a0-b596-256737cb4021');\n",
              "          const dataTable =\n",
              "            await google.colab.kernel.invokeFunction('convertToInteractive',\n",
              "                                                     [key], {});\n",
              "          if (!dataTable) return;\n",
              "\n",
              "          const docLinkHtml = 'Like what you see? Visit the ' +\n",
              "            '<a target=\"_blank\" href=https://colab.research.google.com/notebooks/data_table.ipynb>data table notebook</a>'\n",
              "            + ' to learn more about interactive tables.';\n",
              "          element.innerHTML = '';\n",
              "          dataTable['output_type'] = 'display_data';\n",
              "          await google.colab.output.renderOutput(dataTable, element);\n",
              "          const docLink = document.createElement('div');\n",
              "          docLink.innerHTML = docLinkHtml;\n",
              "          element.appendChild(docLink);\n",
              "        }\n",
              "      </script>\n",
              "    </div>\n",
              "  </div>\n",
              "  "
            ]
          },
          "metadata": {},
          "execution_count": 188
        }
      ]
    },
    {
      "cell_type": "markdown",
      "source": [
        "## **Split the data**"
      ],
      "metadata": {
        "id": "NHT2zeedvp3P"
      }
    },
    {
      "cell_type": "code",
      "source": [
        "from sklearn.model_selection import train_test_split"
      ],
      "metadata": {
        "id": "9k7boxbpsEWh"
      },
      "execution_count": 203,
      "outputs": []
    },
    {
      "cell_type": "code",
      "source": [
        "data=final.copy()"
      ],
      "metadata": {
        "id": "SO2bDhi4u-o5"
      },
      "execution_count": 204,
      "outputs": []
    },
    {
      "cell_type": "code",
      "source": [
        "import numpy as np\n",
        "y=final['Satisfaction']"
      ],
      "metadata": {
        "id": "Z700aI3hwM8b"
      },
      "execution_count": 205,
      "outputs": []
    },
    {
      "cell_type": "code",
      "source": [
        "x=final.drop(['Satisfaction'],axis=1)"
      ],
      "metadata": {
        "id": "mzCH-JVAv7rX"
      },
      "execution_count": 206,
      "outputs": []
    },
    {
      "cell_type": "code",
      "source": [
        "o_g=list(x.columns)"
      ],
      "metadata": {
        "id": "udRcvUDbigzj"
      },
      "execution_count": 207,
      "outputs": []
    },
    {
      "cell_type": "code",
      "source": [
        "x_train,x_test,y_train,y_test=train_test_split(x,y,test_size=0.3,random_state=1)"
      ],
      "metadata": {
        "id": "yIowMEt_wOMv"
      },
      "execution_count": 208,
      "outputs": []
    },
    {
      "cell_type": "code",
      "source": [
        "x_train.shape,x_test.shape,y_train.shape,y_test.shape"
      ],
      "metadata": {
        "colab": {
          "base_uri": "https://localhost:8080/"
        },
        "id": "XvjoPH86w3xR",
        "outputId": "60e4e3f0-c212-4415-c081-0123f8ceb75b"
      },
      "execution_count": 209,
      "outputs": [
        {
          "output_type": "execute_result",
          "data": {
            "text/plain": [
              "((479, 45), (206, 45), (479,), (206,))"
            ]
          },
          "metadata": {},
          "execution_count": 209
        }
      ]
    },
    {
      "cell_type": "code",
      "source": [
        "from sklearn.ensemble import RandomForestRegressor"
      ],
      "metadata": {
        "id": "InZ1dC6Ftesi"
      },
      "execution_count": 210,
      "outputs": []
    },
    {
      "cell_type": "code",
      "source": [
        "new_model=RandomForestRegressor()"
      ],
      "metadata": {
        "id": "dO4psmZkt3fQ"
      },
      "execution_count": 211,
      "outputs": []
    },
    {
      "cell_type": "code",
      "source": [
        "new_model.fit(x_train,y_train)"
      ],
      "metadata": {
        "colab": {
          "base_uri": "https://localhost:8080/"
        },
        "id": "zcf0Y5NZt8DJ",
        "outputId": "431c4e85-176b-4f82-9f2b-28bddc39d3df"
      },
      "execution_count": 212,
      "outputs": [
        {
          "output_type": "execute_result",
          "data": {
            "text/plain": [
              "RandomForestRegressor()"
            ]
          },
          "metadata": {},
          "execution_count": 212
        }
      ]
    },
    {
      "cell_type": "code",
      "source": [
        "y_pp=new_model.predict(x_test)"
      ],
      "metadata": {
        "id": "Z-ubcoJ8uCYe"
      },
      "execution_count": 213,
      "outputs": []
    },
    {
      "cell_type": "code",
      "source": [
        "r2_score(y_test,y_pp)"
      ],
      "metadata": {
        "colab": {
          "base_uri": "https://localhost:8080/"
        },
        "id": "FXmJ1VbIuIdg",
        "outputId": "04626b8f-cd50-4dc7-ce21-4b334f032703"
      },
      "execution_count": 214,
      "outputs": [
        {
          "output_type": "execute_result",
          "data": {
            "text/plain": [
              "0.8208839912394192"
            ]
          },
          "metadata": {},
          "execution_count": 214
        }
      ]
    },
    {
      "cell_type": "markdown",
      "source": [
        "### Interpret**Models** "
      ],
      "metadata": {
        "id": "t49eC9-SBxNW"
      }
    },
    {
      "cell_type": "code",
      "source": [
        "import pydot\n",
        "from sklearn import tree\n",
        "from sklearn.tree import export_graphviz\n",
        "tree=new_model.estimators_[6]\n",
        "export_graphviz(tree,out_file='tree.dot',feature_names=o_g,rounded=True,precision=1)\n",
        "(graph,)=pydot.graph_from_dot_file('tree.dot')\n",
        "graph.write('tree.png');"
      ],
      "metadata": {
        "id": "SYCfozLdvTiI"
      },
      "execution_count": 215,
      "outputs": []
    },
    {
      "cell_type": "code",
      "source": [
        "# Get numerical feature importances\n",
        "importances = list(new_model.feature_importances_)\n",
        "\n",
        "# List of tuples with variable and importance\n",
        "feature_importances = [(feature, round(importance, 2)) for feature, importance in zip(o_g, importances)]\n",
        "\n",
        "# Sort the feature importances by most important first\n",
        "feature_importances = sorted(feature_importances, key = lambda x: x[1], reverse = True)\n",
        "\n",
        "# Print out the feature and importances \n",
        "[print('Variable: {:20} Importance: {}'.format(*pair)) for pair in feature_importances];\n"
      ],
      "metadata": {
        "colab": {
          "base_uri": "https://localhost:8080/"
        },
        "id": "yRd9ObWcGnkj",
        "outputId": "13703d49-8905-45ff-9bd2-6cc2be8ccd28"
      },
      "execution_count": 216,
      "outputs": [
        {
          "output_type": "stream",
          "name": "stdout",
          "text": [
            "Variable: Effective            Importance: 0.71\n",
            "Variable: EaseOfUse            Importance: 0.1\n",
            "Variable: Price                Importance: 0.04\n",
            "Variable: Drug                 Importance: 0.03\n",
            "Variable: Reviews              Importance: 0.03\n",
            "Variable: Form                 Importance: 0.02\n",
            "Variable: back pain            Importance: 0.01\n",
            "Variable: endometriosis        Importance: 0.01\n",
            "Variable: fever                Importance: 0.01\n",
            "Variable: hemorrhoids          Importance: 0.01\n",
            "Variable: Type                 Importance: 0.01\n",
            "Variable: Acute Bacterial Sinusitis Importance: 0.0\n",
            "Variable: Atopic Dermatitis    Importance: 0.0\n",
            "Variable: Bacterial Conjunctivitis Importance: 0.0\n",
            "Variable: Bacterial Urinary Tract Infection Importance: 0.0\n",
            "Variable: Infantile Autism     Importance: 0.0\n",
            "Variable: Influenza            Importance: 0.0\n",
            "Variable: Pharyngitis due to Streptococcus Pyogenes Importance: 0.0\n",
            "Variable: Sleepiness Due To Obstructive Sleep Apnea Importance: 0.0\n",
            "Variable: adenocarcinoma of pancreas Importance: 0.0\n",
            "Variable: biliary calculus     Importance: 0.0\n",
            "Variable: chickenpox           Importance: 0.0\n",
            "Variable: colorectal cancer    Importance: 0.0\n",
            "Variable: depression           Importance: 0.0\n",
            "Variable: diverticulitis of gastrointestinal tract Importance: 0.0\n",
            "Variable: edema                Importance: 0.0\n",
            "Variable: fibromyalgia         Importance: 0.0\n",
            "Variable: flatulence           Importance: 0.0\n",
            "Variable: furunculosis         Importance: 0.0\n",
            "Variable: gastroesophageal reflux disease Importance: 0.0\n",
            "Variable: genital herpes simplex Importance: 0.0\n",
            "Variable: gout                 Importance: 0.0\n",
            "Variable: herpes zoster        Importance: 0.0\n",
            "Variable: hypercholesterolemia Importance: 0.0\n",
            "Variable: hypertension         Importance: 0.0\n",
            "Variable: impetigo             Importance: 0.0\n",
            "Variable: meniere's disease    Importance: 0.0\n",
            "Variable: oral candidiasis     Importance: 0.0\n",
            "Variable: prevention of cerebrovascular accident Importance: 0.0\n",
            "Variable: pyelonephritis       Importance: 0.0\n",
            "Variable: scabies              Importance: 0.0\n",
            "Variable: sore throat          Importance: 0.0\n",
            "Variable: vertigo              Importance: 0.0\n",
            "Variable: vulvovaginal candidiasis Importance: 0.0\n",
            "Variable: Indication           Importance: 0.0\n"
          ]
        }
      ]
    }
  ]
}